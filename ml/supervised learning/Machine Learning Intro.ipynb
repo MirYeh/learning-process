{
 "cells": [
  {
   "cell_type": "markdown",
   "metadata": {},
   "source": [
    "# How Models Work\n",
    "\n",
    "## Decision Tree Models\n",
    "\n",
    "Determine how to break up the data into categories.\n",
    "\n",
    "```\n",
    "              First decision\n",
    "                   /\\\n",
    "                  /  \\\n",
    "               yes    no\n",
    "               |       |\n",
    "               V       V\n",
    "    first decision    second decision\n",
    "```\n",
    "\n",
    "\n",
    "The point at the bottom where we make a prediction is called a **leaf**.\n",
    "\n",
    "You can capture more factors using a tree that has more \"splits.\" These are called \"deeper\" trees.\n",
    "\n",
    "\n",
    "## Exploring the Data"
   ]
  },
  {
   "cell_type": "code",
   "execution_count": 1,
   "metadata": {
    "scrolled": false
   },
   "outputs": [
    {
     "name": "stdout",
     "output_type": "stream",
     "text": [
      "imported pandas\n"
     ]
    }
   ],
   "source": [
    "import pandas as pd\n",
    "print('imported pandas')"
   ]
  },
  {
   "cell_type": "markdown",
   "metadata": {},
   "source": [
    "**[Pandas]()** is the primary tool for exploring and manipulating data.\n",
    "\n",
    "1. a *DataFrame* is similar to a table of data.\n",
    "2. a *Series* is similar to a column of data.\n",
    "\n"
   ]
  },
  {
   "cell_type": "code",
   "execution_count": null,
   "metadata": {},
   "outputs": [],
   "source": [
    "some_csv_flie = 'path/to/houses_data.csv'\n",
    "# store data to DataFrame object\n",
    "houses_data = pd.read_csv(some_csv_flie)\n",
    "# pretty output of data as table \n",
    "houses_data.describe()"
   ]
  },
  {
   "cell_type": "markdown",
   "metadata": {},
   "source": [
    "#### Data Description\n",
    "\n",
    "1. Count - how many rows have non-missing values\n",
    "2. Mean  - the average\n",
    "3. Std   - the standard deviation\n",
    "4. min, 25%, 50%, 75% and max  - sorting each column from lowest to highest value, the smallest value is the min, a quarter way through the list is a number bigger than 25% of the values and smaller than 75% of the values, that is the 25% value (pronounced \"25th percentile\"). The 50th and 75th percentiles are defined analogously, and the max is the largest number\n",
    "\n",
    "\n",
    "## Machine Learning Model\n",
    "\n",
    "#### Selecting Model Data\n",
    "\n",
    "Pare down the overwhelming amount of data.\n"
   ]
  },
  {
   "cell_type": "code",
   "execution_count": null,
   "metadata": {},
   "outputs": [],
   "source": [
    "houses_data.columns"
   ]
  },
  {
   "cell_type": "markdown",
   "metadata": {},
   "source": [
    "Output:\n",
    "```\n",
    "Index(['Suburb', 'Address', 'Rooms', 'Type', 'Price', 'Method', 'SellerG',\n",
    "       'Date', 'Distance', 'Postcode', 'Bedroom2', 'Bathroom', 'Car',\n",
    "       'Landsize', 'BuildingArea', 'YearBuilt', 'CouncilArea', 'Lattitude',\n",
    "       'Longtitude', 'Regionname', 'Propertycount'],\n",
    "      dtype='object')\n",
    "```"
   ]
  },
  {
   "cell_type": "code",
   "execution_count": null,
   "metadata": {},
   "outputs": [],
   "source": [
    "# drop missing values (think of na as \"not available\")\n",
    "houses_data = houses_data.dropna(axis=0)\n",
    "# select prediction target\n",
    "y = houses_data.Price\n",
    "# select features\n",
    "houses_features = ['Rooms', 'Bathroom', 'Landsize', 'Lattitude', 'Longtitude']\n",
    "X = houses_data[houses_features]"
   ]
  },
  {
   "cell_type": "markdown",
   "metadata": {},
   "source": [
    "There are many ways to select a subset of your data, such as selecting one or more features.\n",
    "\n",
    "##### Dot Notation - Select the Prediction Target\n",
    "\n",
    "The dot notation pulls out a single column of data.\n",
    "\n",
    "*By convention, the prediction target is called y.*\n",
    "\n",
    "```\n",
    "y = houses_data.Price\n",
    "```\n",
    "\n",
    "##### Choosing Features\n",
    "```\n",
    "houses_features = ['Rooms', 'Bathroom', 'Landsize', 'Lattitude', 'Longtitude']\n",
    "```\n",
    "\n",
    "*By convention, this data is called X.*\n",
    "\n",
    "```\n",
    "X = houses_data[houses_features]\n",
    "```\n",
    "\n",
    "**Visualy check your data**, you'll frequently find surprises in the dataset that deserve further inspection"
   ]
  },
  {
   "cell_type": "code",
   "execution_count": null,
   "metadata": {},
   "outputs": [],
   "source": [
    "X.describe()\n",
    "X.head()      # return first few rows"
   ]
  },
  {
   "cell_type": "markdown",
   "metadata": {},
   "source": [
    "## Building a Model\n",
    "\n",
    "**[Scikit-learn]()** is the most popular library, used to model types of data stored in DataFrames.\n",
    "\n",
    "### Steps to Building a Model\n",
    "\n",
    "1. Define - What type of model will it be? (Decision tree, regression model, classification model etc.)\n",
    "2. Fit - The **heart of modeling**, capture patterns from provided data\n",
    "3. Predict\n",
    "4. Evaluate - determine how accurate the predictions are\n",
    "\n",
    "\n",
    "Here is an example of defining a decision tree model with scikit-learn and fitting it with the features and target variable.\n"
   ]
  },
  {
   "cell_type": "code",
   "execution_count": null,
   "metadata": {},
   "outputs": [],
   "source": [
    "from sklearn.tree import DecisionTreeRegressor\n",
    "\n",
    "# random states - constant seed to ensure same results each run\n",
    "house_model = DecisionTreeRegressor(random_state=1)\n",
    "house_model.fit(X, y)"
   ]
  },
  {
   "cell_type": "markdown",
   "metadata": {},
   "source": [
    "Output:\n",
    "```\n",
    "DecisionTreeRegressor(criterion='mse', max_depth=None, max_features=None,\n",
    "                      max_leaf_nodes=None, min_impurity_decrease=0.0,\n",
    "                      min_impurity_split=None, min_samples_leaf=1,\n",
    "                      min_samples_split=2, min_weight_fraction_leaf=0.0,\n",
    "                      presort=False, random_state=1, splitter='best')\n",
    "```\n",
    "\n",
    "Many machine learning models allow some randomness in model training. Specifying a number for random_state ensures you get the same results in each run - **this is considered a good practice.**\n",
    "\n",
    "We now have a fitted model that we can use to make predictions.\n",
    "\n",
    "Let's make predictions for the first few rows of the training data to see how the predict function works."
   ]
  },
  {
   "cell_type": "code",
   "execution_count": null,
   "metadata": {},
   "outputs": [],
   "source": [
    "print(\"Making predictions for the following 5 houses:\")\n",
    "print(X.head())\n",
    "print(\"The predictions are:\")\n",
    "print(house_model.predict(X.head()))"
   ]
  },
  {
   "cell_type": "markdown",
   "metadata": {},
   "source": [
    "Output:\n",
    "```\n",
    "Making predictions for the following 5 houses:\n",
    "   Rooms  Bathroom  Landsize  Lattitude  Longtitude\n",
    "1      2       1.0     156.0   -37.8079    144.9934\n",
    "2      3       2.0     134.0   -37.8093    144.9944\n",
    "4      4       1.0     120.0   -37.8072    144.9941\n",
    "6      3       2.0     245.0   -37.8024    144.9993\n",
    "7      2       1.0     256.0   -37.8060    144.9954\n",
    "The predictions are\n",
    "[1035000. 1465000. 1600000. 1876000. 1636000.]\n",
    "```\n"
   ]
  },
  {
   "cell_type": "markdown",
   "metadata": {},
   "source": [
    "## Model Validation\n",
    "\n",
    "Measuring model quality using a **loss function** is the key to iteratively improving your models.\n",
    "There are many metrics for summarizing model quality.\n",
    "\n",
    "### Mean Absolute Error (MAE)\n",
    "\n",
    "With the MAE metric, we take the **absolute value of each error**, then take the average of those absolute errors.\n"
   ]
  },
  {
   "cell_type": "markdown",
   "metadata": {},
   "source": [
    "Output:\n",
    "```\n",
    "434.71594577146544\n",
    "```\n",
    "\n",
    "### The Problem with \"In-Sample\" Scores¶\n",
    "\n",
    "Using a single \"sample\" of houses for both building the model and evaluating it is bad. The model's job is to find patterns that predict home prices - Since this pattern was derived from the training data, the model will appear accurate in the training data and will not necessarily hold for new data.\n",
    "\n",
    "### Validation Data\n",
    "\n",
    "The most straightforward way to do this is to exclude some data from the model-building process, and then use those to test the model's accuracy on data it **hasn't seen before**.\n",
    "we can use `train_test_split` to split data into `train` and `test`."
   ]
  },
  {
   "cell_type": "code",
   "execution_count": null,
   "metadata": {},
   "outputs": [],
   "source": [
    "from sklearn.model_selection import train_test_split\n",
    "\n",
    "train_X, test_X, train_y, test_y = train_test_split(X, y, random_state = 0)\n",
    "# Specify type of model\n",
    "house_model = DecisionTreeRegressor()\n",
    "# fit model\n",
    "house_model.fit(train_X, train_y)\n",
    "\n",
    "# get predicted prices on validation data\n",
    "test_predictions = house_model.predict(test_X)\n",
    "print(mean_absolute_error(test_y, test_predictions))"
   ]
  },
  {
   "attachments": {
    "image.png": {
     "image/png": "[encoded data removed]"
    }
   },
   "cell_type": "markdown",
   "metadata": {},
   "source": [
    "Output:\n",
    "```\n",
    "264067.7030342156\n",
    "```\n",
    "\n",
    "Your mean absolute error for the in-sample data was about 500 dollars. Out-of-sample it is more than 250,000 dollars!\n",
    "\n",
    "\n",
    "## Underfitting and Overfitting\n",
    "\n",
    "### Experimenting With Different Models\n",
    "\n",
    "**underfitting** - failing to capture relevant patterns, leading to less accurate predictions \n",
    "\n",
    "=> when a model fails to capture important distinctions and patterns in the data, so it performs poorly even in training data (Example: very shallow desicion tree).\n",
    "\n",
    "**overfitting** - capturing spurious patterns that won't recur in the future, leading to less accurate predictions \n",
    "\n",
    "=> When a model matches the training data almost perfectly, but does poorly in validation and other new data (Example: very deep desicion tree).\n",
    "\n",
    "We want to find the sweet spot between underfitting and overfitting - visually, we want the low point of the (red) validation curve:\n",
    "\n",
    "![http://i.imgur.com/2q85n9s.png](attachment:image.png)\n",
    "\n",
    "There are a few alternatives for controlling the tree depth.\n",
    "\n",
    "The `max_leaf_nodes` argument provides a very sensible way to control overfitting vs underfitting (more leaves => overfitting).\n",
    "\n"
   ]
  },
  {
   "cell_type": "code",
   "execution_count": null,
   "metadata": {},
   "outputs": [],
   "source": [
    "from sklearn.metrics import mean_absolute_error\n",
    "from sklearn.tree import DecisionTreeRegressor\n",
    "\n",
    "# compare MAE scores from different values for max_leaf_nodes\n",
    "def get_mae(max_leaf_nodes, train_X, val_X, train_y, val_y):\n",
    "    model = DecisionTreeRegressor(max_leaf_nodes=max_leaf_nodes, random_state=0)\n",
    "    model.fit(train_X, train_y)\n",
    "    preds_val = model.predict(val_X)\n",
    "    # get MAE of unseen data!\n",
    "    mae = mean_absolute_error(val_y, preds_val)\n",
    "    return(mae)\n",
    "\n",
    "# find optimal max_leaf_nodes value\n",
    "for max_leaf_nodes in [5, 50, 500, 5000]:\n",
    "    my_mae = get_mae(max_leaf_nodes, train_X, val_X, train_y, val_y)\n",
    "    print(\"Max leaf nodes: %d  \\t\\t Mean Absolute Error:  %d\" %(max_leaf_nodes, my_mae))\n",
    "\n",
    "\n",
    "\"\"\"\n",
    "# Here is a short solution with a dict comprehension.\n",
    "scores = {leaf_size: get_mae(leaf_size, train_X, val_X, train_y, val_y) for leaf_size in candidate_max_leaf_nodes}\n",
    "best_tree_size = min(scores, key=scores.get)\n",
    "\"\"\""
   ]
  },
  {
   "cell_type": "markdown",
   "metadata": {},
   "source": [
    "Output:\n",
    "```\n",
    "Max leaf nodes: 5  \t\t Mean Absolute Error:  347380\n",
    "Max leaf nodes: 50  \t\t Mean Absolute Error:  258171\n",
    "Max leaf nodes: 500  \t\t Mean Absolute Error:  243495\n",
    "Max leaf nodes: 5000  \t\t Mean Absolute Error:  254983\n",
    "```\n",
    "\n",
    "Of the options listed, 500 is the optimal number of leaves.\n",
    "\n",
    "\n",
    "# Random Forest Models\n",
    "\n",
    "The random forest uses many trees, and it makes a prediction by averaging the predictions of each component tree. It generally has much better predictive accuracy than a single decision tree.\n",
    "\n"
   ]
  },
  {
   "cell_type": "code",
   "execution_count": null,
   "metadata": {},
   "outputs": [],
   "source": [
    "from sklearn.ensemble import RandomForestRegressor\n",
    "\n",
    "forest_model = RandomForestRegressor(random_state=1)"
   ]
  }
 ],
 "metadata": {
  "kernelspec": {
   "display_name": "Python 3",
   "language": "python",
   "name": "python3"
  },
  "language_info": {
   "codemirror_mode": {
    "name": "ipython",
    "version": 3
   },
   "file_extension": ".py",
   "mimetype": "text/x-python",
   "name": "python",
   "nbconvert_exporter": "python",
   "pygments_lexer": "ipython3",
   "version": "3.7.6"
  }
 },
 "nbformat": 4,
 "nbformat_minor": 2
}
